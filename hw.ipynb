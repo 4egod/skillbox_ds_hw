{
 "nbformat": 4,
 "nbformat_minor": 2,
 "metadata": {
  "language_info": {
   "name": "python",
   "codemirror_mode": {
    "name": "ipython",
    "version": 3
   }
  },
  "orig_nbformat": 2,
  "file_extension": ".py",
  "mimetype": "text/x-python",
  "name": "python",
  "npconvert_exporter": "python",
  "pygments_lexer": "ipython3",
  "version": 3
 },
 "cells": [
  {
   "cell_type": "code",
   "execution_count": 2,
   "metadata": {},
   "outputs": [],
   "source": [
    "import pandas as pd\n",
    "import sklearn"
   ]
  },
  {
   "cell_type": "code",
   "execution_count": 11,
   "metadata": {},
   "outputs": [
    {
     "data": {
      "text/html": "<div>\n<style scoped>\n    .dataframe tbody tr th:only-of-type {\n        vertical-align: middle;\n    }\n\n    .dataframe tbody tr th {\n        vertical-align: top;\n    }\n\n    .dataframe thead th {\n        text-align: right;\n    }\n</style>\n<table border=\"1\" class=\"dataframe\">\n  <thead>\n    <tr style=\"text-align: right;\">\n      <th></th>\n      <th>nominal</th>\n      <th>data</th>\n      <th>curs</th>\n      <th>cdx</th>\n    </tr>\n  </thead>\n  <tbody>\n    <tr>\n      <th>0</th>\n      <td>1</td>\n      <td>1/1/16</td>\n      <td>72.9299</td>\n      <td>Доллар США</td>\n    </tr>\n    <tr>\n      <th>1</th>\n      <td>1</td>\n      <td>1/12/16</td>\n      <td>75.9507</td>\n      <td>Доллар США</td>\n    </tr>\n    <tr>\n      <th>2</th>\n      <td>1</td>\n      <td>1/13/16</td>\n      <td>76.6041</td>\n      <td>Доллар США</td>\n    </tr>\n    <tr>\n      <th>3</th>\n      <td>1</td>\n      <td>1/14/16</td>\n      <td>76.4275</td>\n      <td>Доллар США</td>\n    </tr>\n    <tr>\n      <th>4</th>\n      <td>1</td>\n      <td>1/15/16</td>\n      <td>76.5230</td>\n      <td>Доллар США</td>\n    </tr>\n    <tr>\n      <th>...</th>\n      <td>...</td>\n      <td>...</td>\n      <td>...</td>\n      <td>...</td>\n    </tr>\n    <tr>\n      <th>941</th>\n      <td>1</td>\n      <td>10/25/19</td>\n      <td>63.8600</td>\n      <td>Доллар США</td>\n    </tr>\n    <tr>\n      <th>942</th>\n      <td>1</td>\n      <td>10/26/19</td>\n      <td>63.9966</td>\n      <td>Доллар США</td>\n    </tr>\n    <tr>\n      <th>943</th>\n      <td>1</td>\n      <td>10/29/19</td>\n      <td>63.8700</td>\n      <td>Доллар США</td>\n    </tr>\n    <tr>\n      <th>944</th>\n      <td>1</td>\n      <td>10/30/19</td>\n      <td>63.8320</td>\n      <td>Доллар США</td>\n    </tr>\n    <tr>\n      <th>945</th>\n      <td>1</td>\n      <td>10/31/19</td>\n      <td>63.8734</td>\n      <td>Доллар США</td>\n    </tr>\n  </tbody>\n</table>\n<p>946 rows × 4 columns</p>\n</div>",
      "text/plain": "     nominal      data     curs         cdx\n0          1    1/1/16  72.9299  Доллар США\n1          1   1/12/16  75.9507  Доллар США\n2          1   1/13/16  76.6041  Доллар США\n3          1   1/14/16  76.4275  Доллар США\n4          1   1/15/16  76.5230  Доллар США\n..       ...       ...      ...         ...\n941        1  10/25/19  63.8600  Доллар США\n942        1  10/26/19  63.9966  Доллар США\n943        1  10/29/19  63.8700  Доллар США\n944        1  10/30/19  63.8320  Доллар США\n945        1  10/31/19  63.8734  Доллар США\n\n[946 rows x 4 columns]"
     },
     "execution_count": 11,
     "metadata": {},
     "output_type": "execute_result"
    }
   ],
   "source": [
    "money = pd.read_csv('usd_exchange_rate.csv')\n",
    "money"
   ]
  },
  {
   "cell_type": "code",
   "execution_count": 14,
   "metadata": {},
   "outputs": [
    {
     "data": {
      "text/plain": "0      72.9299\n1      75.9507\n2      76.6041\n3      76.4275\n4      76.5230\n        ...   \n941    63.8600\n942    63.9966\n943    63.8700\n944    63.8320\n945    63.8734\nName: curs, Length: 946, dtype: float64"
     },
     "execution_count": 14,
     "metadata": {},
     "output_type": "execute_result"
    }
   ],
   "source": [
    "values = money['curs']\n",
    "values"
   ]
  },
  {
   "cell_type": "code",
   "execution_count": 16,
   "metadata": {},
   "outputs": [],
   "source": [
    "past = 7 * 4\n",
    "future = 7\n",
    "start=past\n",
    "end=len(values) - future"
   ]
  },
  {
   "cell_type": "code",
   "execution_count": null,
   "metadata": {},
   "outputs": [],
   "source": []
  }
 ]
}